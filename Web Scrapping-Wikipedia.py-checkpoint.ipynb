{
 "cells": [
  {
   "cell_type": "code",
   "execution_count": null,
   "metadata": {},
   "outputs": [
    {
     "name": "stderr",
     "output_type": "stream",
     "text": [
      "[nltk_data] Downloading package stopwords to\n",
      "[nltk_data]     /Users/shelvigarg/nltk_data...\n",
      "[nltk_data]   Package stopwords is already up-to-date!\n",
      "[nltk_data] Downloading package punkt to\n",
      "[nltk_data]     /Users/shelvigarg/nltk_data...\n",
      "[nltk_data]   Package punkt is already up-to-date!\n"
     ]
    }
   ],
   "source": [
    "import re\n",
    "import nltk\n",
    "import urllib\n",
    "import bs4\n",
    "from nltk.corpus import stopwords\n",
    "nltk.download(\"stopwords\")\n",
    "nltk.download('punkt')\n",
    "from nltk import word_tokenize,sent_tokenize\n",
    "\n",
    "#getting the data source\n",
    "source = urllib.request.urlopen(\"https://en.wikipedia.org/wiki/Climate_change\").read()\n",
    "\n",
    "#parsing data / creating beautiful soup object\n",
    "soup = bs4.BeautifulSoup(source,\"html.parser\")\n",
    "\n",
    "\n",
    "#fetching the data\n",
    "text = \"\"\n",
    "for paragraph in soup.find_all(\"p\"):\n",
    "    text += paragraph.text\n",
    "    \n",
    "#preprocessing the data, removing other insignificant \n",
    "text = text.lower()\n",
    "text = re.sub(r\"\\[[0-9]*\\]\",\"\",text)\n",
    "\n",
    "#removing extra spaces\n",
    "text = re.sub(r\"\\s+\",\" \",text)\n",
    "\n",
    "#parsing as sentences\n",
    "sentences = nltk.sent_tokenize(text)\n",
    "\n",
    "#parsing as words\n",
    "sentences = [nltk.word_tokenize(sentence) for sentence in sentences]\n",
    "print(sentences)\n",
    "\n",
    "\n"
   ]
  },
  {
   "cell_type": "code",
   "execution_count": null,
   "metadata": {},
   "outputs": [],
   "source": []
  }
 ],
 "metadata": {
  "kernelspec": {
   "display_name": "Python 3",
   "language": "python",
   "name": "python3"
  },
  "language_info": {
   "codemirror_mode": {
    "name": "ipython",
    "version": 3
   },
   "file_extension": ".py",
   "mimetype": "text/x-python",
   "name": "python",
   "nbconvert_exporter": "python",
   "pygments_lexer": "ipython3",
   "version": "3.8.8"
  }
 },
 "nbformat": 4,
 "nbformat_minor": 4
}
